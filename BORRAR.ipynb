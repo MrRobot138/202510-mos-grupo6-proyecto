{
 "cells": [
  {
   "cell_type": "code",
   "execution_count": null,
   "id": "92e4cb0a",
   "metadata": {},
   "outputs": [
    {
     "name": "stdout",
     "output_type": "stream",
     "text": [
      "Ruta de Bogotá a Medellín\n",
      "(14.286299999999999, 20.415000000000003)\n"
     ]
    }
   ],
   "source": [
    "import openrouteservice\n",
    "from openrouteservice import convert\n",
    "\n",
    "\n",
    "\n",
    "def get_distancia_y_tiempo(api_key, start_coords, end_coords):\n",
    "    # Reemplaza con tu clave de API\n",
    "    api_key = api_key\n",
    "\n",
    "    client = openrouteservice.Client(key=api_key)\n",
    "\n",
    "    route = client.directions(\n",
    "        coordinates=[start_coords, end_coords],\n",
    "        profile='driving-car',\n",
    "        format='geojson'\n",
    "    )\n",
    "\n",
    "    # Distancia en metros y duración en segundos\n",
    "    distance_m = route['features'][0]['properties']['segments'][0]['distance']\n",
    "    duration_s = route['features'][0]['properties']['segments'][0]['duration']\n",
    "\n",
    "    # Convertimos a km y minutos\n",
    "    distance_km = distance_m / 1000\n",
    "    duration_min = (duration_s / 60) \n",
    "    #print(f\"Distancia de conducción: {distance_km:.2f} km\")\n",
    "    #print(f\"Duración estimada: {duration_hr:.2f} minutos\")\n",
    "\n",
    "    return  distance_km, duration_min\n",
    "\n",
    "\n",
    "api_key = '5b3ce3597851110001cf62487e04df114afa4c3ab39b2f9422fc450a'\n",
    "starts = (-74.09893796560621,4.59795431125545)  # Bogotá\n",
    "ends = (-74.07557103763986,4.687820646838871)  # Medellín\n",
    "\n",
    "print(\"Ruta de Bogotá a Medellín\")\n",
    "print(get_distancia_y_tiempo(api_key, starts, ends))\n"
   ]
  }
 ],
 "metadata": {
  "language_info": {
   "name": "python"
  }
 },
 "nbformat": 4,
 "nbformat_minor": 5
}
