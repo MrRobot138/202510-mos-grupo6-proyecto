{
 "cells": [
  {
   "cell_type": "markdown",
   "id": "5f8a6538",
   "metadata": {},
   "source": [
    "# Driving distance "
   ]
  },
  {
   "cell_type": "code",
   "execution_count": null,
   "id": "92e4cb0a",
   "metadata": {},
   "outputs": [
    {
     "name": "stdout",
     "output_type": "stream",
     "text": [
      "Ruta de Bogotá a Medellín\n",
      "(14.286299999999999, 20.415000000000003)\n"
     ]
    }
   ],
   "source": [
    "import openrouteservice\n",
    "from openrouteservice import convert\n",
    "\n",
    "\n",
    "\n",
    "def get_distancia_y_tiempo(api_key, start_coords, end_coords):\n",
    "    # Reemplaza con tu clave de API\n",
    "    api_key = api_key\n",
    "\n",
    "    client = openrouteservice.Client(key=api_key)\n",
    "\n",
    "    route = client.directions(\n",
    "        coordinates=[start_coords, end_coords],\n",
    "        profile='driving-car',\n",
    "        format='geojson'\n",
    "    )\n",
    "\n",
    "    # Distancia en metros y duración en segundos\n",
    "    distance_m = route['features'][0]['properties']['segments'][0]['distance']\n",
    "    duration_s = route['features'][0]['properties']['segments'][0]['duration']\n",
    "\n",
    "    # Convertimos a km y minutos\n",
    "    distance_km = distance_m / 1000\n",
    "    duration_min = (duration_s / 60) \n",
    "    #print(f\"Distancia de conducción: {distance_km:.2f} km\")\n",
    "    #print(f\"Duración estimada: {duration_hr:.2f} minutos\")\n",
    "\n",
    "    return  distance_km, duration_min\n",
    "\n",
    "\n",
    "api_key = '5b3ce3597851110001cf62487e04df114afa4c3ab39b2f9422fc450a'\n",
    "starts = (-74.09893796560621,4.59795431125545)  # Bogotá\n",
    "ends = (-74.07557103763986,4.687820646838871)  # Medellín\n",
    "\n",
    "print(\"Ruta de Bogotá a Medellín\")\n",
    "print(get_distancia_y_tiempo(api_key, starts, ends))\n"
   ]
  },
  {
   "cell_type": "markdown",
   "id": "64168295",
   "metadata": {},
   "source": [
    "# haversine"
   ]
  },
  {
   "cell_type": "code",
   "execution_count": 1,
   "id": "842150aa",
   "metadata": {},
   "outputs": [
    {
     "name": "stdout",
     "output_type": "stream",
     "text": [
      "Distancia haversine de Bogotá a Medellín\n",
      "3.775871365621247\n"
     ]
    }
   ],
   "source": [
    "from haversine import haversine\n",
    "\n",
    "def haversine_distance(coord1, coord2):\n",
    "    \"\"\"\n",
    "    Calculate the haversine distance between two coordinates.\n",
    "    :param coord1: Tuple of (latitude, longitude) for the first coordinate.\n",
    "    :param coord2: Tuple of (latitude, longitude) for the second coordinate.\n",
    "    :return: Distance in kilometers.\n",
    "    \"\"\"\n",
    "    return haversine(coord1, coord2)\n",
    "\n",
    "starts = (-74.09893796560621,4.59795431125545)  # Bogotá\n",
    "ends = (-74.07557103763986,4.687820646838871)  # Medellín\n",
    "\n",
    "print(\"Distancia haversine de Bogotá a Medellín\")\n",
    "print(haversine_distance(starts, ends))\n",
    "\n"
   ]
  }
 ],
 "metadata": {
  "kernelspec": {
   "display_name": "pyomo_env",
   "language": "python",
   "name": "python3"
  },
  "language_info": {
   "codemirror_mode": {
    "name": "ipython",
    "version": 3
   },
   "file_extension": ".py",
   "mimetype": "text/x-python",
   "name": "python",
   "nbconvert_exporter": "python",
   "pygments_lexer": "ipython3",
   "version": "3.9.21"
  }
 },
 "nbformat": 4,
 "nbformat_minor": 5
}
