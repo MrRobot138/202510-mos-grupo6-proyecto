{
 "cells": [
  {
   "cell_type": "code",
   "execution_count": 16,
   "id": "3a514031",
   "metadata": {},
   "outputs": [
    {
     "name": "stdout",
     "output_type": "stream",
     "text": [
      "   ClientID  LocationID  Demand  Longitude  Latitude\n",
      "0         1           2      13 -74.098938  4.597954\n",
      "1         2           3      15 -74.075571  4.687821\n",
      "2         3           4      12 -74.107085  4.709494\n",
      "3         4           5      15 -74.097280  4.605029\n",
      "4         5           6      20 -74.164641  4.648464\n",
      "   LocationID  Longitude  Latitude\n",
      "0           0 -74.153536  4.743359\n",
      "   VehicleID  Capacity  Range\n",
      "0          1       130    170\n",
      "1          2       140    200\n",
      "2          3       120    180\n",
      "3          4       100     90\n",
      "4          5        70    100\n"
     ]
    }
   ],
   "source": [
    "import pandas as pd\n",
    "\n",
    "\n",
    "clients = pd.read_csv(\"datos/caso_1/clients.csv\")\n",
    "depots = pd.read_csv(\"datos/caso_1/depots.csv\")\n",
    "depots = depots.drop(columns=[\"DepotID\"])\n",
    "vehicles = pd.read_csv(\"datos/caso_1/vehicles.csv\")\n",
    "\n",
    "\n",
    "print(clients.head())\n",
    "print(depots.head())\n",
    "print(vehicles.head())\n"
   ]
  },
  {
   "cell_type": "code",
   "execution_count": 32,
   "id": "75c6b2be",
   "metadata": {},
   "outputs": [
    {
     "name": "stdout",
     "output_type": "stream",
     "text": [
      "Nodos: [0, 1, 2, 3, 4, 5, 6, 7, 8, 9, 10, 11, 12, 13, 14, 15, 16, 17, 18, 19, 20, 21, 22, 23, 24]\n",
      "Clientes: [1, 2, 3, 4, 5, 6, 7, 8, 9, 10, 11, 12, 13, 14, 15, 16, 17, 18, 19, 20, 21, 22, 23, 24]\n",
      "Vehículos: [1, 2, 3, 4, 5, 6, 7, 8]\n",
      "Capacidades: {1: 130, 2: 140, 3: 120, 4: 100, 5: 70, 6: 55, 7: 110, 8: 114}\n",
      "Alcances: {1: 170, 2: 200, 3: 180, 4: 90, 5: 100, 6: 170, 7: 150, 8: 140}\n",
      "Demanda: {0: 0, 1: 13, 2: 15, 3: 12, 4: 15, 5: 20, 6: 17, 7: 17, 8: 20, 9: 20, 10: 15, 11: 17, 12: 12, 13: 21, 14: 15, 15: 17, 16: 10, 17: 25, 18: 12, 19: 11, 20: 15, 21: 14, 22: 18, 23: 15, 24: 11}\n"
     ]
    }
   ],
   "source": [
    "\n",
    "depots = depots.rename(columns={\"LocationID\": \"id\"})\n",
    "clients = clients.rename(columns={\"LocationID\": \"id\"})\n",
    "depots[\"id\"] = 0 \n",
    "depots[\"Demand\"] = 0\n",
    "\n",
    "clients = clients.reset_index(drop=True)\n",
    "clients[\"id\"] = clients.index + 1  \n",
    "\n",
    "depots = depots[[\"id\", \"Longitude\", \"Latitude\", \"Demand\"]]\n",
    "clients = clients[[\"id\", \"Longitude\", \"Latitude\", \"Demand\"]]\n",
    "\n",
    "nodes = pd.concat([depots, clients], ignore_index=True)\n",
    "\n",
    "\n",
    "N = nodes[\"id\"].tolist()\n",
    "\n",
    "C = clients[\"id\"].tolist()\n",
    "\n",
    "De = nodes.set_index(\"id\")[\"Demand\"].to_dict()\n",
    "\n",
    "depot = 0\n",
    "\n",
    "V = vehicles[\"VehicleID\"].tolist()\n",
    "P = vehicles.set_index(\"VehicleID\")[\"Capacity\"].to_dict()\n",
    "M = vehicles.set_index(\"VehicleID\")[\"Range\"].to_dict()\n",
    "\n",
    "print(\"Nodos:\", N)\n",
    "print(\"Clientes:\", C)\n",
    "print(\"Vehículos:\", V)\n",
    "print(\"Capacidades:\", P)\n",
    "print(\"Alcances:\", M)\n",
    "print(\"Demanda:\", De)\n",
    "\n"
   ]
  }
 ],
 "metadata": {
  "kernelspec": {
   "display_name": "pyomo_env",
   "language": "python",
   "name": "python3"
  },
  "language_info": {
   "codemirror_mode": {
    "name": "ipython",
    "version": 3
   },
   "file_extension": ".py",
   "mimetype": "text/x-python",
   "name": "python",
   "nbconvert_exporter": "python",
   "pygments_lexer": "ipython3",
   "version": "3.9.21"
  }
 },
 "nbformat": 4,
 "nbformat_minor": 5
}
